{
 "cells": [
  {
   "cell_type": "markdown",
   "metadata": {},
   "source": [
    "Steve Markstrom Wed Jan 15 09:38:45 MST 2020\n",
    "\n",
    "This notebook contains simple examples to show how to use notebooks with xarray on ONMH output ncf files. These examples use the \"onhm\" python package that is availaible from https://github.com/nhm-usgs/pangeo/src/onhm\n",
    "\n",
    "This notebook is a simple demonstration of how to get ONHM output variable values for a particular day-of-the-year (DOY) for each year."
   ]
  },
  {
   "cell_type": "code",
   "execution_count": 4,
   "metadata": {},
   "outputs": [],
   "source": [
    "    import onhm\n",
    "    import pandas as pd\n",
    "    from pandas.plotting import register_matplotlib_converters\n",
    "    register_matplotlib_converters()"
   ]
  },
  {
   "cell_type": "code",
   "execution_count": 5,
   "metadata": {},
   "outputs": [
    {
     "name": "stdout",
     "output_type": "stream",
     "text": [
      "<xarray.Dataset>\n",
      "Dimensions:              (hruid: 109951, segid: 56460, time: 14569)\n",
      "Coordinates:\n",
      "  * hruid                (hruid) int32 1 2 3 4 5 ... 109948 109949 109950 109951\n",
      "  * time                 (time) datetime64[ns] 1979-10-01T05:00:00 ... 2019-08-20T05:00:00\n",
      "  * segid                (segid) int32 1 2 3 4 5 ... 56457 56458 56459 56460\n",
      "Data variables:\n",
      "    hru_lat              (hruid) float64 ...\n",
      "    hru_lon              (hruid) float64 ...\n",
      "    dunnian_flow         (time, hruid) float64 ...\n",
      "    newsnow_out          object None\n",
      "    intcp_on             (time, hruid) float64 ...\n",
      "    dprst_stor_hru       (time, hruid) float64 ...\n",
      "    hru_streamflow_out   (time, hruid) float64 ...\n",
      "    hru_intcpevap        (time, hruid) float64 ...\n",
      "    snow_evap            (time, hruid) float64 ...\n",
      "    dprst_evap_hru       (time, hruid) float64 ...\n",
      "    pk_temp              (time, hruid) float64 ...\n",
      "    soil_moist_tot       (time, hruid) float64 ...\n",
      "    perv_actet           (time, hruid) float64 ...\n",
      "    hru_outflow          (time, hruid) float64 ...\n",
      "    hru_sroffi           (time, hruid) float64 ...\n",
      "    seg_lat              (segid) float64 ...\n",
      "    seg_lon              (segid) float64 ...\n",
      "    seg_gwflow           (time, segid) float64 ...\n",
      "    seginc_sroff         (time, segid) float64 ...\n",
      "    seg_inflow           (time, segid) float64 ...\n",
      "    seg_lateral_inflow   (time, segid) float64 ...\n",
      "    hortonian_flow       (time, hruid) float64 ...\n",
      "    pref_flow            (time, hruid) float64 ...\n",
      "    seg_ssflow           (time, segid) float64 ...\n",
      "    hru_snow             (time, hruid) float64 ...\n",
      "    gwres_in             (time, hruid) float64 ...\n",
      "    seg_sroff            (time, segid) float64 ...\n",
      "    seginc_potet         (time, segid) float64 ...\n",
      "    seginc_ssflow        (time, segid) float64 ...\n",
      "    slow_stor            (time, hruid) float64 ...\n",
      "    pk_precip            (time, hruid) float64 ...\n",
      "    dprst_seep_hru       (time, hruid) float64 ...\n",
      "    hru_lateral_flow     (time, hruid) float64 ...\n",
      "    infil                (time, hruid) float64 ...\n",
      "    pk_depth             (time, hruid) float64 ...\n",
      "    gwres_stor           (time, hruid) float64 ...\n",
      "    slow_flow            (time, hruid) float64 ...\n",
      "    seg_upstream_inflow  (time, segid) float64 ...\n",
      "    snowmelt             (time, hruid) float64 ...\n",
      "    seginc_swrad         (time, segid) float64 ...\n",
      "    dprst_vol_open_frac  (time, hruid) float64 ...\n",
      "    cap_waterin          (time, hruid) float64 ...\n",
      "    seg_outflow          (time, segid) float64 ...\n",
      "    recharge             (time, hruid) float64 ...\n",
      "    net_rain             (time, hruid) float64 ...\n",
      "    gwres_flow           (time, hruid) float64 ...\n",
      "    contrib_fraction     (time, hruid) float64 ...\n",
      "    dprst_area_open      (time, hruid) float64 ...\n",
      "    prmx                 (time, hruid) float64 ...\n",
      "    hru_sroffp           (time, hruid) float64 ...\n",
      "    dprst_insroff_hru    (time, hruid) float64 ...\n",
      "    soil_moist           (time, hruid) float64 ...\n",
      "    hru_impervstor       (time, hruid) float64 ...\n",
      "    hru_intcpstor        (time, hruid) float64 ...\n",
      "    snowcov_area         (time, hruid) float64 ...\n",
      "    seginc_gwflow        (time, segid) float64 ...\n",
      "    net_ppt              (time, hruid) float64 ...\n",
      "    hru_actet            (time, hruid) float64 ...\n",
      "    hru_ppt              (time, hruid) float64 ...\n",
      "    pref_flow_stor       (time, hruid) float64 ...\n",
      "    net_snow             (time, hruid) float64 ...\n",
      "    albedo               (time, hruid) float64 ...\n",
      "    pk_ice               (time, hruid) float64 ...\n",
      "    potet                (time, hruid) float64 ...\n",
      "    segment_delta_flow   (time, segid) float64 ...\n",
      "    hru_impervevap       (time, hruid) float64 ...\n",
      "    snow_free            (time, hruid) float64 ...\n",
      "    dprst_sroff_hru      (time, hruid) float64 ...\n",
      "    pkwater_equiv        (time, hruid) float64 ...\n",
      "    freeh2o              (time, hruid) float64 ...\n",
      "    hru_rain             (time, hruid) float64 ...\n",
      "    dprst_vol_open       (time, hruid) float64 ...\n"
     ]
    }
   ],
   "source": [
    "    # Load up the xarray DataSet for the ONHM output files.\n",
    "    # path = '/caldera/projects/usgs/water/impd/onhm/historical/output/'\n",
    "    ds_out = onhm.reader.get_DataSet('/work/markstro/operat/setup/test/NHM-PRMS_CONUS/output/', \".nc\")\n",
    "    print(ds_out)"
   ]
  },
  {
   "cell_type": "code",
   "execution_count": 7,
   "metadata": {},
   "outputs": [],
   "source": [
    "    da = onhm.get_values_for_DOY(ds=ds_out, timestamp=pd.Timestamp('1980-04-28'),\n",
    "                            hru_ids=[50471], var_name='potet')\n",
    "    "
   ]
  },
  {
   "cell_type": "code",
   "execution_count": 8,
   "metadata": {},
   "outputs": [
    {
     "name": "stdout",
     "output_type": "stream",
     "text": [
      "<xarray.DataArray (hruid: 1, time: 40)>\n",
      "array([[4.6355 , 4.91998, 2.46888, 4.48818, 1.99644, 4.70408, 4.24942,\n",
      "        4.80314, 4.32562, 4.16814, 4.27482, 3.61696, 4.61264, 4.3561 ,\n",
      "        1.27762, 4.14528, 3.35026, 4.41452, 1.44526, 4.27736, 4.32562,\n",
      "        4.74726, 4.11226, 4.49072, 5.04952, 1.3716 , 4.2799 , 4.6482 ,\n",
      "        4.09194, 3.93446, 4.78536, 4.2418 , 4.35102, 4.91236, 1.44018,\n",
      "        4.27228, 2.159  , 1.46558, 4.27482, 4.25958]])\n",
      "Coordinates:\n",
      "  * hruid    (hruid) int32 50471\n",
      "  * time     (time) datetime64[ns] 1980-04-28T05:00:00 ... 2019-04-28T05:00:00\n",
      "Attributes:\n",
      "    long_name:      Potential ET for each HRU\n",
      "    standard_name:  potet\n",
      "    units:          mm\n"
     ]
    }
   ],
   "source": [
    "    # Notice that the \"Coordinates\" of this DataArray only have one HRU ID and the timestamps are one per year,\n",
    "    # one year apart.\n",
    "    print(da)"
   ]
  },
  {
   "cell_type": "code",
   "execution_count": 9,
   "metadata": {},
   "outputs": [
    {
     "data": {
      "text/plain": [
       "[<matplotlib.lines.Line2D at 0x7fda057a1d90>]"
      ]
     },
     "execution_count": 9,
     "metadata": {},
     "output_type": "execute_result"
    },
    {
     "data": {
      "image/png": "[encoded data removed]",
      "text/plain": [
       "<Figure size 432x288 with 1 Axes>"
      ]
     },
     "metadata": {
      "needs_background": "light"
     },
     "output_type": "display_data"
    }
   ],
   "source": [
    "    da.plot()"
   ]
  },
  {
   "cell_type": "code",
   "execution_count": null,
   "metadata": {},
   "outputs": [],
   "source": []
  }
 ],
 "metadata": {
  "kernelspec": {
   "display_name": "Python 3",
   "language": "python",
   "name": "python3"
  },
  "language_info": {
   "codemirror_mode": {
    "name": "ipython",
    "version": 3
   },
   "file_extension": ".py",
   "mimetype": "text/x-python",
   "name": "python",
   "nbconvert_exporter": "python",
   "pygments_lexer": "ipython3",
   "version": "3.7.5"
  }
 },
 "nbformat": 4,
 "nbformat_minor": 2
}
