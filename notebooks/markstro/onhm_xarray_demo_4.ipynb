{
 "cells": [
  {
   "cell_type": "markdown",
   "metadata": {},
   "source": [
    "Steve Markstrom Wed Jan 15 09:38:45 MST 2020\n",
    "\n",
    "This notebook contains simple examples to show how to use notebooks with xarray on ONMH output ncf files. These examples use the \"onhm\" python package that is availaible from https://github.com/nhm-usgs/pangeo/src/onhm\n",
    "\n",
    "This notebook is a simple demonstration of how to get ONHM output variable values for a particular day-of-the-year (DOY) for each year."
   ]
  },
  {
   "cell_type": "code",
   "execution_count": null,
   "metadata": {},
   "outputs": [],
   "source": [
    "    import onhm\n",
    "    import pandas as pd\n",
    "    from pandas.plotting import register_matplotlib_converters\n",
    "    register_matplotlib_converters()"
   ]
  },
  {
   "cell_type": "code",
   "execution_count": null,
   "metadata": {},
   "outputs": [],
   "source": [
    "    # Load up the xarray DataSet for the ONHM output files.\n",
    "    # path = '/caldera/projects/usgs/water/wbeep/onhm/historical/output/'\n",
    "    ds_out = onhm.reader.get_DataSet('/caldera/projects/usgs/water/wbeep/onhm/historical/output/', \".nc\")\n",
    "    print(ds_out)"
   ]
  },
  {
   "cell_type": "code",
   "execution_count": null,
   "metadata": {},
   "outputs": [],
   "source": [
    "    da = onhm.get_values_for_DOY(ds=ds_out, timestamp=pd.Timestamp('1980-04-28'),\n",
    "                            hru_ids=[50471], var_name='potet')\n",
    "    "
   ]
  },
  {
   "cell_type": "code",
   "execution_count": null,
   "metadata": {},
   "outputs": [],
   "source": [
    "    # Notice that the \"Coordinates\" of this DataArray only have one HRU ID and the timestamps are one per year,\n",
    "    # one year apart.\n",
    "    print(da)"
   ]
  },
  {
   "cell_type": "code",
   "execution_count": null,
   "metadata": {},
   "outputs": [],
   "source": [
    "    da.plot()"
   ]
  },
  {
   "cell_type": "code",
   "execution_count": null,
   "metadata": {},
   "outputs": [],
   "source": []
  }
 ],
 "metadata": {
  "kernelspec": {
   "display_name": "Python 3",
   "language": "python",
   "name": "python3"
  },
  "language_info": {
   "codemirror_mode": {
    "name": "ipython",
    "version": 3
   },
   "file_extension": ".py",
   "mimetype": "text/x-python",
   "name": "python",
   "nbconvert_exporter": "python",
   "pygments_lexer": "ipython3",
   "version": "3.7.6"
  }
 },
 "nbformat": 4,
 "nbformat_minor": 4
}
