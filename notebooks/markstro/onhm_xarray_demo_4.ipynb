{
 "cells": [
  {
   "cell_type": "markdown",
   "metadata": {},
   "source": [
    "Steve Markstrom Wed Jan 15 09:38:45 MST 2020\n",
    "\n",
    "This notebook contains simple examples to show how to use notebooks with xarray on ONMH output ncf files. These examples use the \"onhm\" python package that is availaible from https://github.com/nhm-usgs/pangeo/src/onhm\n",
    "\n",
    "This notebook is a simple demonstration of how to get ONHM output variable values for a particular day of the year for each year."
   ]
  },
  {
   "cell_type": "code",
   "execution_count": 20,
   "metadata": {},
   "outputs": [
    {
     "name": "stdout",
     "output_type": "stream",
     "text": [
      "<xarray.Dataset>\n",
      "Dimensions:              (hruid: 109951, segid: 56460, time: 14569)\n",
      "Coordinates:\n",
      "  * hruid                (hruid) int32 1 2 3 4 5 ... 109948 109949 109950 109951\n",
      "  * time                 (time) datetime64[ns] 1979-10-01T05:00:00 ... 2019-08-20T05:00:00\n",
      "  * segid                (segid) int32 1 2 3 4 5 ... 56457 56458 56459 56460\n",
      "Data variables:\n",
      "    hru_lat              (hruid) float64 ...\n",
      "    hru_lon              (hruid) float64 ...\n",
      "    dunnian_flow         (time, hruid) float64 ...\n",
      "    newsnow_out          object None\n",
      "    intcp_on             (time, hruid) float64 ...\n",
      "    dprst_stor_hru       (time, hruid) float64 ...\n",
      "    hru_streamflow_out   (time, hruid) float64 ...\n",
      "    hru_intcpevap        (time, hruid) float64 ...\n",
      "    snow_evap            (time, hruid) float64 ...\n",
      "    dprst_evap_hru       (time, hruid) float64 ...\n",
      "    pk_temp              (time, hruid) float64 ...\n",
      "    soil_moist_tot       (time, hruid) float64 ...\n",
      "    perv_actet           (time, hruid) float64 ...\n",
      "    hru_outflow          (time, hruid) float64 ...\n",
      "    hru_sroffi           (time, hruid) float64 ...\n",
      "    seg_lat              (segid) float64 ...\n",
      "    seg_lon              (segid) float64 ...\n",
      "    seg_gwflow           (time, segid) float64 ...\n",
      "    seginc_sroff         (time, segid) float64 ...\n",
      "    seg_inflow           (time, segid) float64 ...\n",
      "    seg_lateral_inflow   (time, segid) float64 ...\n",
      "    hortonian_flow       (time, hruid) float64 ...\n",
      "    pref_flow            (time, hruid) float64 ...\n",
      "    seg_ssflow           (time, segid) float64 ...\n",
      "    hru_snow             (time, hruid) float64 ...\n",
      "    gwres_in             (time, hruid) float64 ...\n",
      "    seg_sroff            (time, segid) float64 ...\n",
      "    seginc_potet         (time, segid) float64 ...\n",
      "    seginc_ssflow        (time, segid) float64 ...\n",
      "    slow_stor            (time, hruid) float64 ...\n",
      "    pk_precip            (time, hruid) float64 ...\n",
      "    dprst_seep_hru       (time, hruid) float64 ...\n",
      "    hru_lateral_flow     (time, hruid) float64 ...\n",
      "    infil                (time, hruid) float64 ...\n",
      "    pk_depth             (time, hruid) float64 ...\n",
      "    gwres_stor           (time, hruid) float64 ...\n",
      "    slow_flow            (time, hruid) float64 ...\n",
      "    seg_upstream_inflow  (time, segid) float64 ...\n",
      "    snowmelt             (time, hruid) float64 ...\n",
      "    seginc_swrad         (time, segid) float64 ...\n",
      "    dprst_vol_open_frac  (time, hruid) float64 ...\n",
      "    cap_waterin          (time, hruid) float64 ...\n",
      "    seg_outflow          (time, segid) float64 ...\n",
      "    recharge             (time, hruid) float64 ...\n",
      "    net_rain             (time, hruid) float64 ...\n",
      "    gwres_flow           (time, hruid) float64 ...\n",
      "    contrib_fraction     (time, hruid) float64 ...\n",
      "    dprst_area_open      (time, hruid) float64 ...\n",
      "    prmx                 (time, hruid) float64 ...\n",
      "    hru_sroffp           (time, hruid) float64 ...\n",
      "    dprst_insroff_hru    (time, hruid) float64 ...\n",
      "    soil_moist           (time, hruid) float64 ...\n",
      "    hru_impervstor       (time, hruid) float64 ...\n",
      "    hru_intcpstor        (time, hruid) float64 ...\n",
      "    snowcov_area         (time, hruid) float64 ...\n",
      "    seginc_gwflow        (time, segid) float64 ...\n",
      "    net_ppt              (time, hruid) float64 ...\n",
      "    hru_actet            (time, hruid) float64 ...\n",
      "    hru_ppt              (time, hruid) float64 ...\n",
      "    pref_flow_stor       (time, hruid) float64 ...\n",
      "    net_snow             (time, hruid) float64 ...\n",
      "    albedo               (time, hruid) float64 ...\n",
      "    pk_ice               (time, hruid) float64 ...\n",
      "    potet                (time, hruid) float64 ...\n",
      "    segment_delta_flow   (time, segid) float64 ...\n",
      "    hru_impervevap       (time, hruid) float64 ...\n",
      "    snow_free            (time, hruid) float64 ...\n",
      "    dprst_sroff_hru      (time, hruid) float64 ...\n",
      "    pkwater_equiv        (time, hruid) float64 ...\n",
      "    freeh2o              (time, hruid) float64 ...\n",
      "    hru_rain             (time, hruid) float64 ...\n",
      "    dprst_vol_open       (time, hruid) float64 ...\n"
     ]
    }
   ],
   "source": [
    "    import onhm\n",
    "    import numpy as np\n",
    "    import pandas as pd\n",
    "    import matplotlib.pyplot as plt\n",
    "    from pandas.plotting import register_matplotlib_converters\n",
    "    register_matplotlib_converters()    \n",
    "    \n",
    "    # Load up the xarray DataSet for the ONHM output files.\n",
    "    # path = '/caldera/projects/usgs/water/impd/onhm/historical/output/'\n",
    "    ds_out = onhm.reader.get_DataSet('/work/markstro/operat/setup/test/NHM-PRMS_CONUS/output/', \".nc\")\n",
    "    print(ds_out)"
   ]
  },
  {
   "cell_type": "code",
   "execution_count": 21,
   "metadata": {},
   "outputs": [
    {
     "name": "stdout",
     "output_type": "stream",
     "text": [
      "Good, move on!\n"
     ]
    }
   ],
   "source": [
    "    # Create a pandas Timestamp for the date corresponding to the first day of the year (DOY) that you want.\n",
    "    # The output of the historical NHM run starts in water year 1980, so valid dates run from 1979-10-01 through\n",
    "    # 1980-09-30.\n",
    "    timestamp = pd.Timestamp('1980-04-28')\n",
    "    \n",
    "    if (timestamp < pd.Timestamp('1979-10-01') or timestamp > pd.Timestamp('1980-09-30')):\n",
    "        print(\"Outside range, try again\")\n",
    "        timestamp = None\n",
    "    else:\n",
    "        print(\"Good, move on!\")\n"
   ]
  },
  {
   "cell_type": "code",
   "execution_count": 26,
   "metadata": {},
   "outputs": [
    {
     "name": "stdout",
     "output_type": "stream",
     "text": [
      "DatetimeIndex(['1980-04-28', '1981-04-28', '1982-04-28', '1983-04-28',\n",
      "               '1984-04-28', '1985-04-28', '1986-04-28', '1987-04-28',\n",
      "               '1988-04-28', '1989-04-28', '1990-04-28', '1991-04-28',\n",
      "               '1992-04-28', '1993-04-28', '1994-04-28', '1995-04-28',\n",
      "               '1996-04-28', '1997-04-28', '1998-04-28', '1999-04-28',\n",
      "               '2000-04-28', '2001-04-28', '2002-04-28', '2003-04-28',\n",
      "               '2004-04-28', '2005-04-28', '2006-04-28', '2007-04-28',\n",
      "               '2008-04-28', '2009-04-28', '2010-04-28', '2011-04-28',\n",
      "               '2012-04-28', '2013-04-28', '2014-04-28', '2015-04-28',\n",
      "               '2016-04-28', '2017-04-28', '2018-04-28', '2019-04-28'],\n",
      "              dtype='datetime64[ns]', freq=None)\n"
     ]
    }
   ],
   "source": [
    "    # Generage the DOY dates for each year. Make sure this looks good before moving on.\n",
    "    time_range = pd.date_range(timestamp, freq='1Y', periods=40)\n",
    "    dif = timestamp - time_range[0]\n",
    "    time_range = time_range + dif\n",
    "    print(time_range)"
   ]
  },
  {
   "cell_type": "code",
   "execution_count": 32,
   "metadata": {},
   "outputs": [
    {
     "name": "stdout",
     "output_type": "stream",
     "text": [
      "1980-4-28: 0.00254\n",
      "1981-4-28: 0.0127\n",
      "1982-4-28: 0.0127\n",
      "1983-4-28: 0.0\n",
      "1984-4-28: 0.01016\n",
      "1985-4-28: 0.00508\n",
      "1986-4-28: 0.0\n",
      "1987-4-28: 0.007619999999999999\n",
      "1988-4-28: 0.0\n",
      "1989-4-28: 0.0\n",
      "1990-4-28: 0.0\n",
      "1991-4-28: 0.02032\n",
      "1992-4-28: 0.0\n",
      "1993-4-28: 0.0\n",
      "1994-4-28: 0.00254\n",
      "1995-4-28: 0.0\n",
      "1996-4-28: 0.0\n",
      "1997-4-28: 0.0\n",
      "1998-4-28: 0.0\n",
      "1999-4-28: 0.0127\n",
      "2000-4-28: 0.0\n",
      "2001-4-28: 0.00254\n",
      "2002-4-28: 0.0\n",
      "2003-4-28: 0.017779999999999997\n",
      "2004-4-28: 0.00254\n",
      "2005-4-28: 0.0\n",
      "2006-4-28: 0.0\n",
      "2007-4-28: 0.033019999999999994\n",
      "2008-4-28: 0.00254\n",
      "2009-4-28: 0.00254\n",
      "2010-4-28: 0.01016\n",
      "2011-4-28: 0.00508\n",
      "2012-4-28: 0.00508\n",
      "2013-4-28: 0.00508\n",
      "2014-4-28: 0.00508\n",
      "2015-4-28: 0.00254\n",
      "2016-4-28: 0.09652\n",
      "2017-4-28: 0.02286\n",
      "2018-4-28: 0.00254\n",
      "2019-4-28: 0.0\n"
     ]
    }
   ],
   "source": [
    "    # Select the values from the big DataSet, time_range values are figured out above.\n",
    "    variable_name = 'recharge'\n",
    "    hru_ids= [50471]\n",
    "\n",
    "    for ts in time_range:\n",
    "        try:\n",
    "            date_str = str(ts.year) + '-' + str(ts.month) + '-' + str(ts.day)\n",
    "            ds = ds_out[variable_name].sel(hruid=hru_ids, time=date_str)\n",
    "            val = ds.values[0][0]\n",
    "            print(date_str + ': ' + str(val))\n",
    "        except:\n",
    "            pass"
   ]
  },
  {
   "cell_type": "code",
   "execution_count": null,
   "metadata": {},
   "outputs": [],
   "source": []
  }
 ],
 "metadata": {
  "kernelspec": {
   "display_name": "Python 3",
   "language": "python",
   "name": "python3"
  },
  "language_info": {
   "codemirror_mode": {
    "name": "ipython",
    "version": 3
   },
   "file_extension": ".py",
   "mimetype": "text/x-python",
   "name": "python",
   "nbconvert_exporter": "python",
   "pygments_lexer": "ipython3",
   "version": "3.7.5"
  }
 },
 "nbformat": 4,
 "nbformat_minor": 2
}
