{
 "cells": [
  {
   "cell_type": "markdown",
   "metadata": {},
   "source": [
    "Steve Markstrom Mon Jan 13 10:39:30 MST 2020\n",
    "\n",
    "This notebook contains simple examples to show how to use notebooks with xarray on ONMH output ncf files. These examples use the \"onhm\" python package that is availaible from https://github.com/nhm-usgs/pangeo/src/onhm\n",
    "\n",
    "This notebook is a simple demonstration of how to get ONHM output variable values (and do stuff with them) for lists of HRU and Stream Segment IDs. These lists of IDs could come from lat/lon box pulls (as shown in onhm_array_demo_1 notebook)  or from \"Bandit style\" pulls that are based on the connectivity of the stream and HRU network (as shown in onhm_array_demo_2 notebook).\n"
   ]
  },
  {
   "cell_type": "code",
   "execution_count": null,
   "metadata": {},
   "outputs": [],
   "source": [
    "    # The python package \"onhm\" can be built from the source code at https://github.com/nhm-usgs/pangeo/src/onhm\n",
    "    # These IDs come from notebook onhm_array_demo_1\n",
    "    \n",
    "    import onhm\n",
    "    import numpy as np\n",
    "    import matplotlib.pyplot as plt\n",
    "    from pandas.plotting import register_matplotlib_converters\n",
    "    register_matplotlib_converters()\n",
    "    \n",
    "    hru_ids= [50471,50474,50482]\n",
    "    \n",
    "    seg_ids= [26236,26237,26238,28096]\n",
    "\n"
   ]
  },
  {
   "cell_type": "code",
   "execution_count": null,
   "metadata": {},
   "outputs": [],
   "source": [
    "    # Load up the xarray DataSet for the ONHM output files.\n",
    "    # path = '/caldera/projects/usgs/water/impd/onhm/historical/output/'\n",
    "    ds_out = onhm.reader.get_DataSet('/work/markstro/operat/setup/test/NHM-PRMS_CONUS/output/', \".nc\")\n",
    "    print(ds_out)"
   ]
  },
  {
   "cell_type": "markdown",
   "metadata": {},
   "source": [
    "The next few cells show how to get the time series of average PET and AET for the selected HRUs."
   ]
  },
  {
   "cell_type": "code",
   "execution_count": null,
   "metadata": {},
   "outputs": [],
   "source": [
    "ds_pet = ds_out['potet'].sel(hruid=hru_ids)\n",
    "print(ds_pet)"
   ]
  },
  {
   "cell_type": "code",
   "execution_count": null,
   "metadata": {},
   "outputs": [],
   "source": [
    "# Plot upt the time series of PET for each HRU\n",
    "dim_size = ds_pet.values.shape\n",
    "num_ts = dim_size[0]\n",
    "num_hru = dim_size[1]\n",
    "    \n",
    "for ii in range(num_hru):\n",
    "    ds_pet[:,ii].plot()"
   ]
  },
  {
   "cell_type": "markdown",
   "metadata": {},
   "source": [
    "Too many years to see what is going on, cut out one year's worth."
   ]
  },
  {
   "cell_type": "code",
   "execution_count": null,
   "metadata": {},
   "outputs": [],
   "source": [
    "# Try again with smaller temporal slice\n",
    "ds_pet = ds_pet.sel(time=slice('1990-10-01', '1991-09-30'))\n",
    "\n",
    "dim_size = ds_pet.values.shape\n",
    "num_ts = dim_size[0]\n",
    "num_hru = dim_size[1]\n",
    "    \n",
    "for ii in range(num_hru):\n",
    "    ds_pet[:,ii].plot()"
   ]
  },
  {
   "cell_type": "code",
   "execution_count": null,
   "metadata": {},
   "outputs": [],
   "source": [
    "    # The means of the HRU values, for each time step, respectively\n",
    "    pet_mean = np.zeros(num_ts)\n",
    "    for ii in range(0, num_hru):\n",
    "        pet_mean = np.add(pet_mean, ds_pet.values[:,ii])\n",
    "    pet_mean = pet_mean / num_hru\n",
    "    \n",
    "    # Need to use matplotlib call directly because the variable mean is a numpy array, not an xarray DataArray\n",
    "    plt.plot(ds_pet.coords['time'], pet_mean)"
   ]
  },
  {
   "cell_type": "markdown",
   "metadata": {},
   "source": [
    "Do the same thing again, except with actual ET."
   ]
  },
  {
   "cell_type": "code",
   "execution_count": null,
   "metadata": {},
   "outputs": [],
   "source": [
    "ds_aet = ds_out['hru_actet'].sel(hruid=hru_ids, time=slice('1990-10-01', '1991-09-30'))\n",
    "dim_size = ds_aet.values.shape\n",
    "num_ts = dim_size[0]\n",
    "num_hru = dim_size[1]\n",
    "\n",
    "for ii in range(num_hru):\n",
    "    ds_aet[:,ii].plot()"
   ]
  },
  {
   "cell_type": "code",
   "execution_count": null,
   "metadata": {},
   "outputs": [],
   "source": [
    "aet_mean = np.zeros(num_ts)\n",
    "for ii in range(0, num_hru):\n",
    "    aet_mean = np.add(aet_mean, ds_aet.values[:,ii])\n",
    "aet_mean = aet_mean / num_hru\n",
    "deficit = np.subtract(pet_mean, aet_mean)\n",
    "\n",
    "plt.plot(ds_aet.coords['time'], aet_mean)\n",
    "plt.plot(ds_pet.coords['time'], pet_mean)\n",
    "plt.plot(ds_pet.coords['time'], deficit)"
   ]
  },
  {
   "cell_type": "code",
   "execution_count": null,
   "metadata": {},
   "outputs": [],
   "source": []
  }
 ],
 "metadata": {
  "kernelspec": {
   "display_name": "Python 3",
   "language": "python",
   "name": "python3"
  },
  "language_info": {
   "codemirror_mode": {
    "name": "ipython",
    "version": 3
   },
   "file_extension": ".py",
   "mimetype": "text/x-python",
   "name": "python",
   "nbconvert_exporter": "python",
   "pygments_lexer": "ipython3",
   "version": "3.7.5"
  }
 },
 "nbformat": 4,
 "nbformat_minor": 2
}
