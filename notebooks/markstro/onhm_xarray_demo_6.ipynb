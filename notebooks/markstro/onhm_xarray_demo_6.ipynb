{
 "cells": [
  {
   "cell_type": "code",
   "execution_count": null,
   "metadata": {},
   "outputs": [],
   "source": [
    "import numpy as np\n",
    "import pandas as pd\n",
    "import geopandas as gpd\n",
    "import matplotlib.pyplot as plt\n",
    "%matplotlib inline\n",
    "from matplotlib import cm\n",
    "from matplotlib.colors import ListedColormap, LinearSegmentedColormap\n",
    "\n",
    "path='/caldera/projects/usgs/water/impd/onhm/historical/output/seg_outflow.nc'\n",
    "stream_shape='/caldera/projects/usgs/water/impd/onhm/GIS/streamSegsAllConus/segsAllConus.shp'\n",
    "hru_shape='/caldera/projects/usgs/water/impd/onhm/GIS/hrusAllConus/hrusAllConus.shp'"
   ]
  },
  {
   "cell_type": "code",
   "execution_count": null,
   "metadata": {},
   "outputs": [],
   "source": [
    "    # path is the path to were there are output PRMS ncf files\n",
    "    # ext is the file extention on these files\n",
    "    # The python package \"onhm\" can be built from the source code at https://github.com/nhm-usgs/pangeo/src/onhm\n",
    "    \n",
    "    import onhm\n",
    "    \n",
    "    # For example, to see the results of the historical ONHM runs on Denali, the path would be\n",
    "    path = '/caldera/projects/usgs/water/impd/onhm/historical/output/'\n",
    "    #path = '/work/markstro/operat/setup/test/NHM-PRMS_CONUS/output/'\n",
    "    ext = '.nc'\n",
    "    \n",
    "    ds_out = onhm.reader.get_DataSet(path, ext)\n",
    "    print(ds_out)"
   ]
  },
  {
   "cell_type": "code",
   "execution_count": null,
   "metadata": {},
   "outputs": [],
   "source": [
    "    # Get the values for all HRUs for an output variable for a single time step\n",
    "    var_name = 'seg_outflow'\n",
    "    time_step = '2000-06-01'\n",
    "    seg_outflow_sel = ds_out[var_name].sel(time=time_step)\n",
    "    \n",
    "    # This is an xarray DataArray\n",
    "    print(seg_outflow_sel)\n",
    "    # This is a numpy ndarray\n",
    "    print(\"numpy.ndarray=\", seg_outflow_sel.values)\n",
    "    print('number of hrus = ', seg_outflow_sel.values.size)"
   ]
  },
  {
   "cell_type": "code",
   "execution_count": null,
   "metadata": {},
   "outputs": [],
   "source": [
    "streams = gpd.read_file(stream_shape)\n",
    "streams.head()"
   ]
  },
  {
   "cell_type": "code",
   "execution_count": null,
   "metadata": {},
   "outputs": [],
   "source": [
    "vals = seg_outflow_sel.values\n",
    "\n",
    "streams['outflow'] = vals[0]\n",
    "streams.head()"
   ]
  },
  {
   "cell_type": "code",
   "execution_count": null,
   "metadata": {},
   "outputs": [],
   "source": [
    "coolwarm = cm.get_cmap('coolwarm', 12)"
   ]
  },
  {
   "cell_type": "code",
   "execution_count": null,
   "metadata": {},
   "outputs": [],
   "source": [
    "fig, ax = plt.subplots(1, 1)\n",
    "streams.plot(column='outflow', cmap='coolwarm', ax=ax, legend=True)"
   ]
  },
  {
   "cell_type": "code",
   "execution_count": null,
   "metadata": {},
   "outputs": [],
   "source": [
    "foo = vals[0]\n",
    "foo[foo < .1] = .1\n",
    "\n",
    "foo_ln = np.log(foo) \n",
    "streams['outflow_ln'] = foo_ln\n",
    "streams.head()"
   ]
  },
  {
   "cell_type": "code",
   "execution_count": null,
   "metadata": {},
   "outputs": [],
   "source": [
    "fig, ax = plt.subplots(1, 1)\n",
    "streams.plot(column='outflow_ln', cmap='coolwarm', ax=ax, legend=True)"
   ]
  },
  {
   "cell_type": "code",
   "execution_count": null,
   "metadata": {},
   "outputs": [],
   "source": []
  }
 ],
 "metadata": {
  "kernelspec": {
   "display_name": "Python 3",
   "language": "python",
   "name": "python3"
  },
  "language_info": {
   "codemirror_mode": {
    "name": "ipython",
    "version": 3
   },
   "file_extension": ".py",
   "mimetype": "text/x-python",
   "name": "python",
   "nbconvert_exporter": "python",
   "pygments_lexer": "ipython3",
   "version": "3.7.6"
  }
 },
 "nbformat": 4,
 "nbformat_minor": 4
}
