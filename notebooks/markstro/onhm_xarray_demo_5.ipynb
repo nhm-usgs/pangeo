{
 "cells": [
  {
   "cell_type": "markdown",
   "metadata": {},
   "source": [
    "Steve Markstrom\n",
    "Thu Feb 11 09:05:21 MST 2020 \n",
    "\n",
    "This notebook contains simple examples to show how to use notebooks with xarray on ONMH output ncf files. These examples use the \"onhm\" python package that is availaible from https://github.com/nhm-usgs/pangeo/src/onhm"
   ]
  },
  {
   "cell_type": "code",
   "execution_count": null,
   "metadata": {},
   "outputs": [],
   "source": [
    "import numpy as np\n",
    "import pandas as pd\n",
    "import geopandas as gpd\n",
    "import matplotlib.pyplot as plt\n",
    "%matplotlib inline\n",
    "from matplotlib import cm\n",
    "from matplotlib.colors import ListedColormap, LinearSegmentedColormap\n",
    "\n",
    "stream_shape='/caldera/projects/usgs/water/impd/onhm/GIS/streamSegsAllConus/segsAllConus.shp'\n",
    "hru_shape='/caldera/projects/usgs/water/impd/onhm/GIS/hrusAllConus/hrusAllConus.shp'"
   ]
  },
  {
   "cell_type": "markdown",
   "metadata": {},
   "source": [
    "The next cell demonstrates the get_DataSet() function from the onhm package. This function lazy loads all of the netcdf files found in the specified path into xarray DataArrays and loads each of these DataArrays into a single xarray DataSet. "
   ]
  },
  {
   "cell_type": "code",
   "execution_count": null,
   "metadata": {},
   "outputs": [],
   "source": [
    "    # path is the path to were there are output PRMS ncf files\n",
    "    # ext is the file extention on these files\n",
    "    # The python package \"onhm\" can be built from the source code at https://github.com/nhm-usgs/pangeo/src/onhm\n",
    "    \n",
    "    import onhm\n",
    "    \n",
    "    # For example, to see the results of the historical ONHM runs on Denali, the path would be\n",
    "    path = '/caldera/projects/usgs/water/impd/onhm/historical/output/'\n",
    "    #path = '/work/markstro/operat/setup/test/NHM-PRMS_CONUS/output/'\n",
    "    ext = '.nc'\n",
    "    \n",
    "    ds_out = onhm.reader.get_DataSet(path, ext)\n",
    "    print(ds_out)"
   ]
  },
  {
   "cell_type": "markdown",
   "metadata": {},
   "source": [
    "To get the time series for a paticular variable for a single HRU"
   ]
  },
  {
   "cell_type": "code",
   "execution_count": null,
   "metadata": {},
   "outputs": [],
   "source": [
    "    # Get the values for all HRUs for an output variable for a single time step\n",
    "    var_name = 'pkwater_equiv'\n",
    "    time_step = '2000-04-01'\n",
    "    sel1 = ds_out[var_name].sel(time=time_step)\n",
    "    \n",
    "    # This is an xarray DataArray\n",
    "    print(sel1)\n",
    "    # This is a numpy ndarray\n",
    "    print(\"numpy.ndarray=\", sel1.values)\n",
    "    print('number of hrus = ', sel1.values.size)"
   ]
  },
  {
   "cell_type": "code",
   "execution_count": null,
   "metadata": {},
   "outputs": [],
   "source": [
    "vals = (sel1.values)[0]\n",
    "print(min(vals), max(vals))\n",
    "plt.hist(vals, bins=[0,1,2,3,4,5,6,7,8,9,10,11,12,13,14,15,16,17,18,19,20,21,22,23,24,\n",
    "                     25,26,27,28,29,30,31,32,33,34,35,36,37,38,39,40,41,42,43,44,45,46,47,48,49,50,\n",
    "                     51,52,53,54,55,56,57,58,59,60,61,62,63,64,65],\n",
    "         density=True,\n",
    "         histtype='bar',\n",
    "         facecolor='b',\n",
    "         alpha=0.5)\n",
    "\n",
    "#plt.show()"
   ]
  },
  {
   "cell_type": "code",
   "execution_count": null,
   "metadata": {},
   "outputs": [],
   "source": [
    "# Load the shapefile\n",
    "\n",
    "hrus = gpd.read_file(hru_shape)\n",
    "hrus.tail()"
   ]
  },
  {
   "cell_type": "code",
   "execution_count": null,
   "metadata": {},
   "outputs": [],
   "source": [
    "# Basic plot\n",
    "hrus.plot()\n"
   ]
  },
  {
   "cell_type": "code",
   "execution_count": null,
   "metadata": {},
   "outputs": [],
   "source": [
    "foo = np.zeros(109555)\n",
    "\n",
    "nhm_id = hrus[\"nhm_id\"]\n",
    "print(nhm_id)\n",
    "print(nhm_id.shape)\n",
    "\n",
    "#count = 0\n",
    "for ii in range(109554):\n",
    "    foo[ii] = vals[nhm_id[ii]]\n",
    "#    if temps[ii] == 0.0:\n",
    "#        count = count + 1\n",
    "#print(count)"
   ]
  },
  {
   "cell_type": "code",
   "execution_count": null,
   "metadata": {},
   "outputs": [],
   "source": [
    "hrus['pkwater_equiv'] = foo\n",
    "hrus.head"
   ]
  },
  {
   "cell_type": "code",
   "execution_count": null,
   "metadata": {},
   "outputs": [],
   "source": [
    "coolwarm = cm.get_cmap('coolwarm', 12)"
   ]
  },
  {
   "cell_type": "code",
   "execution_count": null,
   "metadata": {},
   "outputs": [],
   "source": [
    "fig, ax = plt.subplots(1, 1)\n",
    "\n",
    "hrus.plot(column='pkwater_equiv', cmap='coolwarm', ax=ax, legend=True)"
   ]
  },
  {
   "cell_type": "code",
   "execution_count": null,
   "metadata": {},
   "outputs": [],
   "source": [
    "minx, miny, maxx, maxy = hrus.total_bounds\n",
    "print(minx, miny, maxx, maxy)"
   ]
  },
  {
   "cell_type": "code",
   "execution_count": null,
   "metadata": {},
   "outputs": [],
   "source": [
    "fig, ax = plt.subplots(1, 1)\n",
    "ax.set_xlim(-2354935, -1500000)\n",
    "ax.set_ylim(2500000, 3200000)\n",
    "hrus.plot(column='pkwater_equiv', cmap='coolwarm', ax=ax, legend=True)"
   ]
  },
  {
   "cell_type": "code",
   "execution_count": null,
   "metadata": {},
   "outputs": [],
   "source": []
  }
 ],
 "metadata": {
  "kernelspec": {
   "display_name": "Python 3",
   "language": "python",
   "name": "python3"
  },
  "language_info": {
   "codemirror_mode": {
    "name": "ipython",
    "version": 3
   },
   "file_extension": ".py",
   "mimetype": "text/x-python",
   "name": "python",
   "nbconvert_exporter": "python",
   "pygments_lexer": "ipython3",
   "version": "3.7.6"
  }
 },
 "nbformat": 4,
 "nbformat_minor": 4
}
