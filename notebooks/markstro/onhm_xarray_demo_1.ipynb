{
 "cells": [
  {
   "cell_type": "markdown",
   "metadata": {},
   "source": [
    "Steve Markstrom\n",
    "Thu Jan  9 09:05:21 MST 2020 \n",
    "\n",
    "This notebook contains simple examples to show how to use notebooks with xarray on ONMH output ncf files. These examples use the \"onhm\" python package that is availaible from https://github.com/nhm-usgs/pangeo/src/onhm"
   ]
  },
  {
   "cell_type": "markdown",
   "metadata": {},
   "source": [
    "The next cell demonstrates the get_DataSet() function from the onhm package. This function lazy loads all of the netcdf files found in the specified path into xarray DataArrays and loads each of these DataArrays into a single xarray DataSet. "
   ]
  },
  {
   "cell_type": "code",
   "execution_count": null,
   "metadata": {},
   "outputs": [],
   "source": [
    "    # path is the path to were there are output PRMS ncf files\n",
    "    # ext is the file extention on these files\n",
    "    # The python package \"onhm\" can be built from the source code at https://github.com/nhm-usgs/pangeo/src/onhm\n",
    "    \n",
    "    import onhm\n",
    "    \n",
    "    # For example, to see the results of the historical ONHM runs on Denali, the path would be\n",
    "    # path = '/caldera/projects/usgs/water/impd/onhm/historical/output/'\n",
    "    path = '/work/markstro/operat/setup/test/NHM-PRMS_CONUS/output/'\n",
    "    ext = '.nc'\n",
    "    \n",
    "    ds_out = onhm.reader.get_DataSet(path, ext)\n",
    "    print(ds_out)"
   ]
  },
  {
   "cell_type": "markdown",
   "metadata": {},
   "source": [
    "The latitude and longitudes of each of the modeling features (HRUs and Stream Segments) are recorded in the onhm output ncf files. The next cell shows how to get the geographic coordinates (decimal degrees) of any HRU or Stream Segment. These examples assume that you know the ID of the HRU and the Stream Segment."
   ]
  },
  {
   "cell_type": "code",
   "execution_count": null,
   "metadata": {},
   "outputs": [],
   "source": [
    "    # Get the coordinates of the centroid of an HRU\n",
    "    hru_id = 50471\n",
    "    lat, lon = onhm.reader.get_feat_coord(feat='hru', data_set=ds_out, feat_id=hru_id)\n",
    "    print(\"Coordinates of HRU \" + str(hru_id) + \" = \" + str(lat) + \",\" + str(lon))\n",
    "    \n",
    "    # Get the coordinates of the midpoint of a stream segment\n",
    "    seg_id = 100\n",
    "    lat, lon = onhm.reader.get_feat_coord(feat='seg', data_set=ds_out, feat_id=seg_id)\n",
    "    print(\"Coordinates of stream segment \" + str(seg_id) + \" = \" + str(lat) + \",\" + str(lon ))    \n",
    "    "
   ]
  },
  {
   "cell_type": "markdown",
   "metadata": {},
   "source": [
    "To get the IDs of the HRUs within a lat/lon bounding box:"
   ]
  },
  {
   "cell_type": "code",
   "execution_count": null,
   "metadata": {},
   "outputs": [],
   "source": [
    "    # Get the HRU IDs by bounding lat/lon box\n",
    "    hru_ids = onhm.reader.get_hrus_for_box(ds_out, lat_min=40.0, lat_max=41.0,\n",
    "                                               lon_min=-101.0, lon_max=-100.0)\n",
    "    print('hru_ids=', hru_ids)"
   ]
  },
  {
   "cell_type": "markdown",
   "metadata": {},
   "source": [
    "To get the IDs of the Stream Segments within a lat/lon bounding box:"
   ]
  },
  {
   "cell_type": "code",
   "execution_count": null,
   "metadata": {},
   "outputs": [],
   "source": [
    "    # Get the Stream Segment IDs by bounding lat/lon box\n",
    "    seg_ids = onhm.reader.get_segs_for_box(ds_out, lat_min=40.0, lat_max=41.0,\n",
    "                                               lon_min=-101.0, lon_max=-100.0)\n",
    "    print('seg_ids=', seg_ids)"
   ]
  },
  {
   "cell_type": "markdown",
   "metadata": {},
   "source": [
    "To get the HRU values for an output variable for a single time step"
   ]
  },
  {
   "cell_type": "code",
   "execution_count": null,
   "metadata": {},
   "outputs": [],
   "source": [
    "    # Get the values for all HRUs for an output variable for a single time step\n",
    "    var_name = 'hru_rain'\n",
    "    time_step = '1979-10-02'\n",
    "    sel1 = ds_out[var_name].sel(time=time_step)\n",
    "    \n",
    "    # This is an xarray DataArray\n",
    "    print(sel1)\n",
    "    # This is a numpy ndarray\n",
    "    print(\"numpy.ndarray=\", sel1.values)\n",
    "    print('number of hrus = ', sel1.values.size)"
   ]
  },
  {
   "cell_type": "markdown",
   "metadata": {},
   "source": [
    "To get the time series for a paticular variable for a single HRU"
   ]
  },
  {
   "cell_type": "code",
   "execution_count": null,
   "metadata": {},
   "outputs": [],
   "source": [
    "    # Get the time series for a paticular variable for a single HRU.\n",
    "    var_name = 'hru_rain'\n",
    "    hru_id = 50471\n",
    "    sel1 = ds_out[var_name].sel(hruid=hru_id)\n",
    "    \n",
    "    # This is an xarray DataArray\n",
    "    print(sel1)\n",
    "    # This is a numpy ndarray\n",
    "    print(sel1.values)\n",
    "    print('number of time steps = ', sel1.values.size)"
   ]
  },
  {
   "cell_type": "code",
   "execution_count": null,
   "metadata": {},
   "outputs": [],
   "source": []
  },
  {
   "cell_type": "code",
   "execution_count": null,
   "metadata": {},
   "outputs": [],
   "source": []
  }
 ],
 "metadata": {
  "kernelspec": {
   "display_name": "Python 3",
   "language": "python",
   "name": "python3"
  },
  "language_info": {
   "codemirror_mode": {
    "name": "ipython",
    "version": 3
   },
   "file_extension": ".py",
   "mimetype": "text/x-python",
   "name": "python",
   "nbconvert_exporter": "python",
   "pygments_lexer": "ipython3",
   "version": "3.7.5"
  }
 },
 "nbformat": 4,
 "nbformat_minor": 2
}
