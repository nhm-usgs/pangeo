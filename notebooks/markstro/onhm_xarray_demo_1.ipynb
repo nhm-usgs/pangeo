{
 "cells": [
  {
   "cell_type": "markdown",
   "metadata": {},
   "source": [
    "Steve Markstrom\n",
    "Thu Jan  9 09:05:21 MST 2020 \n",
    "\n",
    "This notebook contains simple examples to show how to use notebooks with xarray on ONMH output ncf files. These examples use the \"onhm\" python package that is availaible from https://github.com/nhm-usgs/pangeo/src/onhm"
   ]
  },
  {
   "cell_type": "markdown",
   "metadata": {},
   "source": [
    "The next cell demonstrates the get_DataSet() function from the onhm package. This function lazy loads all of the netcdf files found in the specified path into xarray DataArrays and loads each of these DataArrays into a single xarray DataSet. "
   ]
  },
  {
   "cell_type": "code",
   "execution_count": 1,
   "metadata": {},
   "outputs": [
    {
     "name": "stdout",
     "output_type": "stream",
     "text": [
      "<xarray.Dataset>\n",
      "Dimensions:              (hruid: 109951, segid: 56460, time: 14569)\n",
      "Coordinates:\n",
      "  * hruid                (hruid) int32 1 2 3 4 5 ... 109948 109949 109950 109951\n",
      "  * time                 (time) datetime64[ns] 1979-10-01T05:00:00 ... 2019-08-20T05:00:00\n",
      "  * segid                (segid) int32 1 2 3 4 5 ... 56457 56458 56459 56460\n",
      "Data variables:\n",
      "    hru_lat              (hruid) float64 ...\n",
      "    hru_lon              (hruid) float64 ...\n",
      "    unused_potet         (time, hruid) float64 ...\n",
      "    gwres_in             (time, hruid) float64 ...\n",
      "    newsnow_out          object None\n",
      "    seg_lat              (segid) float64 ...\n",
      "    seg_lon              (segid) float64 ...\n",
      "    segment_delta_flow   (time, segid) float64 ...\n",
      "    transp_on            (time, hruid) float64 ...\n",
      "    tmaxf                (time, hruid) float64 ...\n",
      "    dprst_vol_open_frac  (time, hruid) float64 ...\n",
      "    potet                (time, hruid) float64 ...\n",
      "    hru_streamflow_out   (time, hruid) float64 ...\n",
      "    pref_flow_stor       (time, hruid) float64 ...\n",
      "    pk_precip            (time, hruid) float64 ...\n",
      "    seg_outflow          (time, segid) float64 ...\n",
      "    hru_lateral_flow     (time, hruid) float64 ...\n",
      "    hru_intcpevap        (time, hruid) float64 ...\n",
      "    hru_ppt              (time, hruid) float64 ...\n",
      "    pk_depth             (time, hruid) float64 ...\n",
      "    net_snow             (time, hruid) float64 ...\n",
      "    hru_actet            (time, hruid) float64 ...\n",
      "    snowmelt             (time, hruid) float64 ...\n",
      "    hru_snow             (time, hruid) float64 ...\n",
      "    dprst_sroff_hru      (time, hruid) float64 ...\n",
      "    soil_moist_tot       (time, hruid) float64 ...\n",
      "    hortonian_flow       (time, hruid) float64 ...\n",
      "    dprst_evap_hru       (time, hruid) float64 ...\n",
      "    hru_rain             (time, hruid) float64 ...\n",
      "    sroff                (time, hruid) float64 ...\n",
      "    dprst_area_open      (time, hruid) float64 ...\n",
      "    snow_evap            (time, hruid) float64 ...\n",
      "    slow_stor            (time, hruid) float64 ...\n",
      "    seginc_ssflow        (time, segid) float64 ...\n",
      "    snow_free            (time, hruid) float64 ...\n",
      "    seg_sroff            (time, segid) float64 ...\n",
      "    seg_gwflow           (time, segid) float64 ...\n",
      "    gwres_flow           (time, hruid) float64 ...\n",
      "    hru_impervevap       (time, hruid) float64 ...\n",
      "    net_ppt              (time, hruid) float64 ...\n",
      "    snowcov_area         (time, hruid) float64 ...\n",
      "    seg_lateral_inflow   (time, segid) float64 ...\n",
      "    net_rain             (time, hruid) float64 ...\n",
      "    ssres_flow           (time, hruid) float64 ...\n",
      "    soil_to_gw           (time, hruid) float64 ...\n",
      "    gwres_stor           (time, hruid) float64 ...\n",
      "    pk_ice               (time, hruid) float64 ...\n",
      "    dprst_vol_open       (time, hruid) float64 ...\n",
      "    pref_flow            (time, hruid) float64 ...\n",
      "    dprst_insroff_hru    (time, hruid) float64 ...\n",
      "    dprst_stor_hru       (time, hruid) float64 ...\n",
      "    seginc_sroff         (time, segid) float64 ...\n",
      "    perv_actet           (time, hruid) float64 ...\n",
      "    hru_sroffi           (time, hruid) float64 ...\n",
      "    dunnian_flow         (time, hruid) float64 ...\n",
      "    seg_ssflow           (time, segid) float64 ...\n",
      "    hru_outflow          (time, hruid) float64 ...\n",
      "    soil_rechr           (time, hruid) float64 ...\n",
      "    hru_intcpstor        (time, hruid) float64 ...\n",
      "    seginc_gwflow        (time, segid) float64 ...\n",
      "    tminf                (time, hruid) float64 ...\n",
      "    dprst_seep_hru       (time, hruid) float64 ...\n",
      "    hru_impervstor       (time, hruid) float64 ...\n",
      "    contrib_fraction     (time, hruid) float64 ...\n",
      "    hru_sroffp           (time, hruid) float64 ...\n",
      "    tavgf                (time, hruid) float64 ...\n",
      "    prmx                 (time, hruid) float64 ...\n",
      "    soil_moist           (time, hruid) float64 ...\n",
      "    cap_waterin          (time, hruid) float64 ...\n",
      "    seginc_potet         (time, segid) float64 ...\n",
      "    seginc_swrad         (time, segid) float64 ...\n",
      "    seg_upstream_inflow  (time, segid) float64 ...\n",
      "    infil                (time, hruid) float64 ...\n",
      "    soil_to_ssr          (time, hruid) float64 ...\n",
      "    recharge             (time, hruid) float64 ...\n",
      "    swrad                (time, hruid) float64 ...\n",
      "    pkwater_equiv        (time, hruid) float64 ...\n",
      "    slow_flow            (time, hruid) float64 ...\n",
      "    seg_inflow           (time, segid) float64 ...\n",
      "    intcp_on             (time, hruid) float64 ...\n",
      "    pk_temp              (time, hruid) float64 ...\n",
      "    albedo               (time, hruid) float64 ...\n",
      "    freeh2o              (time, hruid) float64 ...\n"
     ]
    }
   ],
   "source": [
    "    # path is the path to were there are output PRMS ncf files\n",
    "    # ext is the file extention on these files\n",
    "    # The python package \"onhm\" can be built from the source code at https://github.com/nhm-usgs/pangeo/src/onhm\n",
    "    \n",
    "    import onhm\n",
    "    \n",
    "    # For example, to see the results of the historical ONHM runs on Denali, the path would be\n",
    "    path = '/caldera/projects/usgs/water/wbeep/onhm/historical/output/'\n",
    "    #path = '/work/markstro/operat/setup/test/NHM-PRMS_CONUS/output/'\n",
    "    ext = '.nc'\n",
    "    \n",
    "    ds_out = onhm.reader.get_DataSet(path, ext)\n",
    "    print(ds_out)"
   ]
  },
  {
   "cell_type": "markdown",
   "metadata": {},
   "source": [
    "The latitude and longitudes of each of the modeling features (HRUs and Stream Segments) are recorded in the onhm output ncf files. The next cell shows how to get the geographic coordinates (decimal degrees) of any HRU or Stream Segment. These examples assume that you know the ID of the HRU and the Stream Segment."
   ]
  },
  {
   "cell_type": "code",
   "execution_count": 2,
   "metadata": {},
   "outputs": [
    {
     "name": "stdout",
     "output_type": "stream",
     "text": [
      "Coordinates of HRU 50471 = 40.013438,-100.1355\n",
      "Coordinates of stream segment 100 = 46.094257776,-67.9908220109\n"
     ]
    }
   ],
   "source": [
    "    # Get the coordinates of the centroid of an HRU\n",
    "    hru_id = 50471\n",
    "    lat, lon = onhm.reader.get_feat_coord(feat='hru', data_set=ds_out, feat_id=hru_id)\n",
    "    print(\"Coordinates of HRU \" + str(hru_id) + \" = \" + str(lat) + \",\" + str(lon))\n",
    "    \n",
    "    # Get the coordinates of the midpoint of a stream segment\n",
    "    seg_id = 100\n",
    "    lat, lon = onhm.reader.get_feat_coord(feat='seg', data_set=ds_out, feat_id=seg_id)\n",
    "    print(\"Coordinates of stream segment \" + str(seg_id) + \" = \" + str(lat) + \",\" + str(lon ))    \n",
    "    "
   ]
  },
  {
   "cell_type": "markdown",
   "metadata": {},
   "source": [
    "To get the IDs of the HRUs within a lat/lon bounding box:"
   ]
  },
  {
   "cell_type": "code",
   "execution_count": 3,
   "metadata": {},
   "outputs": [
    {
     "name": "stdout",
     "output_type": "stream",
     "text": [
      "hru_ids= [50471 50474 50482 50495 50506 50507 50514 50515 50517 50524 50527 50528\n",
      " 50529 50530 50534 50538 50539 50540 50541 50542 50543 50546 50547 50550\n",
      " 50552 50553 50554 50555 50559 50560 50561 50562 50566 50568 50573 50574\n",
      " 50578 50587 50591 50595 50596 50598 50600 50601 50603 50604 50606 50608\n",
      " 50610 50612 50614 50615 50617 50619 50620 50623 50626 50627 50630 50635\n",
      " 50638 50639 50640 50641 50644 50645 50647 50649 50651 50652 50653 50654\n",
      " 50655 50657 50661 50662 50666 50668 50669 50670 50671 50672 50673 50674\n",
      " 50678 50679 50681 50685 50686 50694 50696 50697 50700 50702 50704 50705\n",
      " 50710 51294 51295 51296 51299 51302 51387 51388 51392 51393 51394 51591\n",
      " 51592 51593 51594 51601 51602 51603 51604 51605 51606 52192 55476 55498\n",
      " 55502]\n"
     ]
    }
   ],
   "source": [
    "    # Get the HRU IDs by bounding lat/lon box\n",
    "    hru_ids = onhm.reader.get_hrus_for_box(ds_out, lat_min=40.0, lat_max=41.0,\n",
    "                                               lon_min=-101.0, lon_max=-100.0)\n",
    "    print('hru_ids=', hru_ids)"
   ]
  },
  {
   "cell_type": "markdown",
   "metadata": {},
   "source": [
    "To get the IDs of the Stream Segments within a lat/lon bounding box:"
   ]
  },
  {
   "cell_type": "code",
   "execution_count": 4,
   "metadata": {},
   "outputs": [
    {
     "name": "stdout",
     "output_type": "stream",
     "text": [
      "seg_ids= [26236 26237 26238 28096 28097 28098 28099 28101 28102 28103 28104 28105\n",
      " 28106 28110 28140 28141 28142 28143 28144 28145 28146 28147 28148 28149\n",
      " 28150 28151 28152 28153 28154 28155 28156 28157 28158 28159 28164 28165\n",
      " 28166 28167 28185 28200 28201 28202 28203 28204 28205 28206 28207 28209\n",
      " 28210 28211 28212 28213 28214 28215 28216 28217 28218 28219 28220 28221\n",
      " 28222 28421]\n"
     ]
    }
   ],
   "source": [
    "    # Get the Stream Segment IDs by bounding lat/lon box\n",
    "    seg_ids = onhm.reader.get_segs_for_box(ds_out, lat_min=40.0, lat_max=41.0,\n",
    "                                               lon_min=-101.0, lon_max=-100.0)\n",
    "    print('seg_ids=', seg_ids)"
   ]
  },
  {
   "cell_type": "markdown",
   "metadata": {},
   "source": [
    "To get the HRU values for an output variable for a single time step"
   ]
  },
  {
   "cell_type": "code",
   "execution_count": 5,
   "metadata": {},
   "outputs": [
    {
     "name": "stdout",
     "output_type": "stream",
     "text": [
      "<xarray.DataArray 'hru_rain' (time: 1, hruid: 109951)>\n",
      "[109951 values with dtype=float64]\n",
      "Coordinates:\n",
      "  * hruid    (hruid) int32 1 2 3 4 5 6 ... 109947 109948 109949 109950 109951\n",
      "  * time     (time) datetime64[ns] 1979-10-02T05:00:00\n",
      "Attributes:\n",
      "    long_name:      Rain distributed to each HRU\n",
      "    standard_name:  hru_rain\n",
      "    units:          mm\n",
      "numpy.ndarray= [[0.15 3.81 3.81 ... 0.   0.   0.  ]]\n",
      "number of hrus =  109951\n"
     ]
    }
   ],
   "source": [
    "    # Get the values for all HRUs for an output variable for a single time step\n",
    "    var_name = 'hru_rain'\n",
    "    time_step = '1979-10-02'\n",
    "    sel1 = ds_out[var_name].sel(time=time_step)\n",
    "    \n",
    "    # This is an xarray DataArray\n",
    "    print(sel1)\n",
    "    # This is a numpy ndarray\n",
    "    print(\"numpy.ndarray=\", sel1.values)\n",
    "    print('number of hrus = ', sel1.values.size)"
   ]
  },
  {
   "cell_type": "markdown",
   "metadata": {},
   "source": [
    "To get the time series for a paticular variable for a single HRU"
   ]
  },
  {
   "cell_type": "code",
   "execution_count": 6,
   "metadata": {},
   "outputs": [
    {
     "name": "stdout",
     "output_type": "stream",
     "text": [
      "<xarray.DataArray 'hru_rain' (time: 14569)>\n",
      "array([0.   , 0.   , 0.   , ..., 0.   , 1.27 , 0.508])\n",
      "Coordinates:\n",
      "    hruid    int32 50471\n",
      "  * time     (time) datetime64[ns] 1979-10-01T05:00:00 ... 2019-08-20T05:00:00\n",
      "Attributes:\n",
      "    long_name:      Rain distributed to each HRU\n",
      "    standard_name:  hru_rain\n",
      "    units:          mm\n",
      "[0.    0.    0.    ... 0.    1.27  0.508]\n",
      "number of time steps =  14569\n"
     ]
    }
   ],
   "source": [
    "    # Get the time series for a paticular variable for a single HRU.\n",
    "    var_name = 'hru_rain'\n",
    "    hru_id = 50471\n",
    "    sel1 = ds_out[var_name].sel(hruid=hru_id)\n",
    "    \n",
    "    # This is an xarray DataArray\n",
    "    print(sel1)\n",
    "    # This is a numpy ndarray\n",
    "    print(sel1.values)\n",
    "    print('number of time steps = ', sel1.values.size)"
   ]
  },
  {
   "cell_type": "code",
   "execution_count": null,
   "metadata": {},
   "outputs": [],
   "source": []
  },
  {
   "cell_type": "code",
   "execution_count": null,
   "metadata": {},
   "outputs": [],
   "source": []
  }
 ],
 "metadata": {
  "kernelspec": {
   "display_name": "Python 3",
   "language": "python",
   "name": "python3"
  },
  "language_info": {
   "codemirror_mode": {
    "name": "ipython",
    "version": 3
   },
   "file_extension": ".py",
   "mimetype": "text/x-python",
   "name": "python",
   "nbconvert_exporter": "python",
   "pygments_lexer": "ipython3",
   "version": "3.7.6"
  }
 },
 "nbformat": 4,
 "nbformat_minor": 4
}
